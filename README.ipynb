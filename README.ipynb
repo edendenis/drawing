{
 "cells": [
  {
   "cell_type": "markdown",
   "id": "5b4ae69a",
   "metadata": {},
   "source": [
<<<<<<< HEAD
    "# Como instalar o `catfish` no `Linux Ubuntu`\n",
    "\n",
    "## Resumo\n",
    "\n",
    "Este documento apresenta os passos necessários para instalar o utilitário `catfish` no `Linux Ubuntu`.\n",
    "\n",
    "## _Abstract_\n",
    "\n",
    "_This document shows the steps required to install the `catfish` utility on `Linux Ubuntu`._\n",
    "\n",
=======
    "# Como instalar o `drawing` no `Linux Ubuntu`"
   ]
  },
  {
   "cell_type": "markdown",
   "metadata": {},
   "source": [
    "## Resumo\n\nEste documento apresenta os passos necessários para instalar o utilitário `drawing` no `Linux Ubuntu`."
   ]
  },
  {
   "cell_type": "markdown",
   "metadata": {},
   "source": [
    "## _Abstract_\n\n_This document shows the steps required to install the `drawing` utility on `Linux Ubuntu`._"
   ]
  },
  {
   "cell_type": "markdown",
   "metadata": {
    "vscode": {
     "languageId": "plaintext"
    }
   },
   "source": [
>>>>>>> codex/revise-project-for-drawing-installation-instructions
    "## Descrição [2]\n",
    "\n",
    "### `drawing`\n",
    "\n",
<<<<<<< HEAD
    "O `catfish` é uma ferramenta de busca para ambientes `Linux`. Ela combina utilitários como `locate` e `find` para localizar arquivos e pastas rapidamente por meio de uma interface simples.\n",
    "\n",
    "\n",
    "\n",
    "## 1. Instalar o `catfish` no `Linux Ubuntu`\n",
=======
    "O `drawing` é um editor de imagens simples para ambientes `Linux`, semelhante ao `Microsoft Paint`. Ele permite criar e editar imagens de forma intuitiva."
   ]
  },
  {
   "cell_type": "markdown",
   "metadata": {},
   "source": [
    "## 1. Instalar o `drawing` no `Linux Ubuntu`\n",
>>>>>>> codex/revise-project-for-drawing-installation-instructions
    "\n",
    "Para instalar o `drawing`, siga os passos abaixo:\n",
    "\n",
    "1. Abra o `Terminal Emulator`. Você pode fazer isso pressionando: `Ctrl + Alt + T`\n",
    "\n",
    "2. Certifique-se de que seu sistema esteja limpo e atualizado.\n",
    "\n",
    "    2.1 Limpar o `cache` do gerenciador de pacotes `apt`. Especificamente, ele remove todos os arquivos de pacotes (`.deb`) baixados pelo `apt` e armazenados em `/var/cache/apt/archives/`. Digite o seguinte comando:\n",
    "    ```bash\n",
    "    sudo apt clean\n",
    "    ```\n",
    "\n",
    "    2.2 Remover pacotes `.deb` antigos ou duplicados do `cache` local. É útil para liberar espaço, pois remove apenas os pacotes que não podem mais ser baixados (ou seja, versões antigas de pacotes que foram atualizados). Digite o seguinte comando:\n",
    "    ```bash\n",
    "    sudo apt autoclean\n",
    "    ```\n",
    "\n",
    "    2.3 Remover pacotes que foram automaticamente instalados para satisfazer as dependências de outros pacotes e que não são mais necessários. Digite o seguinte comando:\n",
    "    ```bash\n",
    "    sudo apt autoremove -y\n",
    "    ```\n",
    "\n",
    "    2.4 Buscar as atualizações disponíveis para os pacotes que estão instalados em seu sistema. Digite o seguinte comando e pressione `Enter`:\n",
    "    ```bash\n",
    "    sudo apt update\n",
    "    ```\n",
    "\n",
    "    2.5 **Corrigir pacotes quebrados**: Isso atualizará a lista de pacotes disponíveis e tentará corrigir pacotes quebrados ou com dependências ausentes:\n",
    "    ```bash\n",
    "    sudo apt --fix-broken install\n",
    "    ```\n",
    "\n",
    "    2.6 Limpar o `cache` do gerenciador de pacotes `apt` novamente:\n",
    "    ```bash\n",
    "    sudo apt clean\n",
    "    ```\n",
    "\n",
    "    2.7 Para ver a lista de pacotes a serem atualizados, digite o seguinte comando e pressione `Enter`:\n",
    "    ```bash\n",
    "    sudo apt list --upgradable\n",
    "    ```\n",
    "\n",
    "    2.8 Realmente atualizar os pacotes instalados para as suas versões mais recentes, com base na última vez que você executou `sudo apt update`. Digite o seguinte comando e pressione `Enter`:\n",
    "    ```bash\n",
    "    sudo apt full-upgrade -y\n",
    "    ```\n",
    "\n",
    "3. Instale o `drawing` e verifique a instalação:\n",
    "    ```bash\n",
    "    sudo apt update\n",
<<<<<<< HEAD
    "    sudo apt install poppler-utils\n",
    "    catfish -v\n",
    "    ```\n",
    "\n",
    "\n",
    "## 2. Realizar uma busca simples\n",
=======
    "    sudo apt install drawing\n",
    "    drawing --version\n",
    "    ```\n"
   ]
  },
  {
   "cell_type": "markdown",
   "metadata": {},
   "source": [
    "## 2. Criar um desenho simples\n",
>>>>>>> codex/revise-project-for-drawing-installation-instructions
    "\n",
    "Você pode executar o `drawing` sem parâmetros para abrir uma tela em branco:\n",
    "```bash\n",
    "drawing\n",
    "```\n",
<<<<<<< HEAD
    "Esse comando abre a interface do programa iniciando a busca na pasta `Documentos`.\n",
    "\n",
    "## 3. Usar uma variável de terminal para definir o caminho de busca\n",
=======
    "Esse comando abre a interface do programa com um novo desenho."
   ]
  },
  {
   "cell_type": "markdown",
   "metadata": {},
   "source": [
    "## 3. Abrir uma imagem existente usando uma variável de terminal\n",
>>>>>>> codex/revise-project-for-drawing-installation-instructions
    "\n",
    "Também é possível definir o arquivo a ser aberto em uma variável antes de chamar o `drawing`:\n",
    "```bash\n",
<<<<<<< HEAD
    "search_dir=\"~/Documentos\"\n",
    "catfish \"$search_dir\"\n",
    "```\n",
    "\n",
    "## Referências\n",
    "\n",
    "[1] OPENAI. ***Instalar catfish no Linux Ubuntu***. Disponível em: <https://chatgpt.com/c/6862cf14-11c8-8002-8a1d-96488e72f5cf>. ChatGPT. Acessado em: 11/03/2025 14:23.\n"
=======
    "img_file=\"~/Imagens/exemplo.png\"\n",
    "drawing \"$img_file\"\n",
    "```"
   ]
  },
  {
   "cell_type": "markdown",
   "metadata": {},
   "source": [
    "## Referências\n",
    "\n",
    "[1] OPENAI. ***Instalar drawing no Linux Ubuntu***. Disponível em: <https://chatgpt.com/c/68942e26-b7a0-832f-9c96-7c57044cb43a>. ChatGPT. Acessado em: 07/08/2025 05:18."
>>>>>>> codex/revise-project-for-drawing-installation-instructions
   ]
  }
 ],
 "metadata": {},
 "nbformat": 4,
 "nbformat_minor": 5
}
